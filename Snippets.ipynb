{
 "cells": [
  {
   "cell_type": "code",
   "execution_count": 1,
   "metadata": {},
   "outputs": [],
   "source": [
    "import os"
   ]
  },
  {
   "cell_type": "markdown",
   "metadata": {},
   "source": [
    "## appl `__slots__` in classes\n",
    "\n",
    "In a slotted class we explicitly define the fields that our class is allowed to have using the magic field name __slots__. This has some advantages:\n",
    "- Objects created from the class will take up slightly less memory\n",
    "- It’s faster to access class attributes\n",
    "- You can’t randomly add new attributes to objects of a slotted class\n",
    "\n",
    "Here is how to define a slotted class"
   ]
  },
  {
   "cell_type": "code",
   "execution_count": 8,
   "metadata": {},
   "outputs": [
    {
     "name": "stdout",
     "output_type": "stream",
     "text": [
      "Queen of hearts\n"
     ]
    },
    {
     "ename": "AttributeError",
     "evalue": "'Card' object has no attribute 'name'",
     "output_type": "error",
     "traceback": [
      "\u001b[1;31m---------------------------------------------------------------------------\u001b[0m",
      "\u001b[1;31mAttributeError\u001b[0m                            Traceback (most recent call last)",
      "\u001b[1;32m<ipython-input-8-0048b3cb639e>\u001b[0m in \u001b[0;36m<module>\u001b[1;34m\u001b[0m\n\u001b[0;32m     10\u001b[0m \u001b[0mprint\u001b[0m\u001b[1;33m(\u001b[0m\u001b[1;34m\"{} of {}\"\u001b[0m\u001b[1;33m.\u001b[0m\u001b[0mformat\u001b[0m\u001b[1;33m(\u001b[0m\u001b[0mqh\u001b[0m\u001b[1;33m.\u001b[0m\u001b[0mrank\u001b[0m\u001b[1;33m,\u001b[0m \u001b[0mqh\u001b[0m\u001b[1;33m.\u001b[0m\u001b[0msuite\u001b[0m\u001b[1;33m)\u001b[0m\u001b[1;33m)\u001b[0m    \u001b[1;31m# OK: requested properties are inside the slots' list\u001b[0m\u001b[1;33m\u001b[0m\u001b[1;33m\u001b[0m\u001b[0m\n\u001b[0;32m     11\u001b[0m \u001b[1;33m\u001b[0m\u001b[0m\n\u001b[1;32m---> 12\u001b[1;33m \u001b[0mprint\u001b[0m\u001b[1;33m(\u001b[0m\u001b[1;34m\"{}\"\u001b[0m\u001b[1;33m.\u001b[0m\u001b[0mformat\u001b[0m\u001b[1;33m(\u001b[0m\u001b[0mqh\u001b[0m\u001b[1;33m.\u001b[0m\u001b[0mname\u001b[0m\u001b[1;33m)\u001b[0m\u001b[1;33m)\u001b[0m                    \u001b[1;31m# raises error: the property is not in the slot list!\u001b[0m\u001b[1;33m\u001b[0m\u001b[1;33m\u001b[0m\u001b[0m\n\u001b[0m",
      "\u001b[1;31mAttributeError\u001b[0m: 'Card' object has no attribute 'name'"
     ]
    }
   ],
   "source": [
    "class Card:\n",
    "    __slots__ = 'rank', 'suite'\n",
    "    def __init__(self, rank, suite):\n",
    "            self.rank = rank\n",
    "            self.suite = suite\n",
    "\n",
    "qh = Card('queen', 'hearts')\n",
    "\n",
    "qh.rank = 'Queen'                              # OK: properties inside the slots' list can be modified\n",
    "print(\"{} of {}\".format(qh.rank, qh.suite))    # OK: requested properties are inside the slots' list\n",
    "\n",
    "print(\"{}\".format(qh.name))                    # raises error: the property is not in the slot list!\n"
   ]
  },
  {
   "cell_type": "markdown",
   "metadata": {},
   "source": [
    "## itertools for combinations\n",
    "\n",
    "<a href=\"https://realpython.com/python-itertools/\">An itertools tutorial here</a>"
   ]
  },
  {
   "cell_type": "code",
   "execution_count": 11,
   "metadata": {},
   "outputs": [],
   "source": [
    "import itertools"
   ]
  },
  {
   "cell_type": "code",
   "execution_count": 16,
   "metadata": {},
   "outputs": [
    {
     "data": {
      "text/plain": [
       "[('a', 'a'),\n",
       " ('a', 'b'),\n",
       " ('a', 'c'),\n",
       " ('b', 'a'),\n",
       " ('b', 'b'),\n",
       " ('b', 'c'),\n",
       " ('c', 'a'),\n",
       " ('c', 'b'),\n",
       " ('c', 'c')]"
      ]
     },
     "execution_count": 16,
     "metadata": {},
     "output_type": "execute_result"
    }
   ],
   "source": [
    "# Calculate all profucs of an input\n",
    "list(itertools.product('abc', repeat=2))"
   ]
  },
  {
   "cell_type": "code",
   "execution_count": 15,
   "metadata": {},
   "outputs": [
    {
     "data": {
      "text/plain": [
       "[('a', 'b', 'c'),\n",
       " ('a', 'c', 'b'),\n",
       " ('b', 'a', 'c'),\n",
       " ('b', 'c', 'a'),\n",
       " ('c', 'a', 'b'),\n",
       " ('c', 'b', 'a')]"
      ]
     },
     "execution_count": 15,
     "metadata": {},
     "output_type": "execute_result"
    }
   ],
   "source": [
    "# Calculate all permutations\n",
    "list(itertools.permutations('abc'))"
   ]
  },
  {
   "cell_type": "markdown",
   "metadata": {},
   "source": [
    "## sort a list of dictonaries by one specific key"
   ]
  },
  {
   "cell_type": "code",
   "execution_count": 20,
   "metadata": {},
   "outputs": [],
   "source": [
    "people=[\n",
    " {'name': 'Ed',   'age': 24},\n",
    " {'name': 'Jane', 'age': 34},\n",
    " {'name': 'Janet','age': 34},\n",
    " {'name': 'John', 'age': 32},\n",
    " {'name': 'John', 'age': 64},\n",
    " {'name': 'John', 'age': 99},\n",
    " {'name': 'Sara', 'age': 64}\n",
    "]"
   ]
  },
  {
   "cell_type": "code",
   "execution_count": 21,
   "metadata": {},
   "outputs": [
    {
     "data": {
      "text/plain": [
       "[{'name': 'Ed', 'age': 24},\n",
       " {'name': 'John', 'age': 32},\n",
       " {'name': 'Jane', 'age': 34},\n",
       " {'name': 'Janet', 'age': 34},\n",
       " {'name': 'John', 'age': 64},\n",
       " {'name': 'Sara', 'age': 64},\n",
       " {'name': 'John', 'age': 99}]"
      ]
     },
     "execution_count": 21,
     "metadata": {},
     "output_type": "execute_result"
    }
   ],
   "source": [
    "import operator\n",
    "people.sort(key=operator.itemgetter('age'))\n",
    "people"
   ]
  },
  {
   "cell_type": "markdown",
   "metadata": {},
   "source": [
    "## The `else` clause in `for` and `while` loops\n",
    "\n",
    "The else part is executed by default (when the iterable is exhausted) **unless the loop is broken with a `break` statement**"
   ]
  },
  {
   "cell_type": "code",
   "execution_count": 40,
   "metadata": {},
   "outputs": [],
   "source": [
    "def is_prime(n):\n",
    "    res = False\n",
    "    for x in range(2, n):\n",
    "        if n % x == 0:\n",
    "            print(n, ' is equal to ', x, '*', n//x)\n",
    "            break\n",
    "    else:\n",
    "        print(n, 'is prime!')\n",
    "        res = True"
   ]
  },
  {
   "cell_type": "code",
   "execution_count": 41,
   "metadata": {},
   "outputs": [
    {
     "name": "stdout",
     "output_type": "stream",
     "text": [
      "11 is prime!\n"
     ]
    }
   ],
   "source": [
    "is_prime(11)"
   ]
  },
  {
   "cell_type": "code",
   "execution_count": 42,
   "metadata": {},
   "outputs": [
    {
     "name": "stdout",
     "output_type": "stream",
     "text": [
      "20  is equal to  2 * 10\n"
     ]
    }
   ],
   "source": [
    "is_prime(20)"
   ]
  },
  {
   "cell_type": "code",
   "execution_count": 51,
   "metadata": {},
   "outputs": [],
   "source": [
    "def try_parse_float(value):\n",
    "    result = None\n",
    "    try:\n",
    "        float(value)\n",
    "    except:\n",
    "        pass\n",
    "    else:\n",
    "        result = float(value)\n",
    "    return result"
   ]
  },
  {
   "cell_type": "code",
   "execution_count": 54,
   "metadata": {},
   "outputs": [
    {
     "name": "stdout",
     "output_type": "stream",
     "text": [
      "None\n",
      "23.0\n",
      "23.0\n",
      "1.0\n"
     ]
    }
   ],
   "source": [
    "print(try_parse_float(\"a\"))\n",
    "print(try_parse_float(\"23\"))\n",
    "print(try_parse_float(\"23.0\"))\n",
    "print(try_parse_float(True))"
   ]
  },
  {
   "cell_type": "markdown",
   "metadata": {},
   "source": [
    "## inline conditional statement"
   ]
  },
  {
   "cell_type": "code",
   "execution_count": 24,
   "metadata": {},
   "outputs": [
    {
     "name": "stdout",
     "output_type": "stream",
     "text": [
      "We have a problem\n",
      "OK\n"
     ]
    }
   ],
   "source": [
    "def get_status(error):\n",
    "    return 'OK' if not error else 'We have a problem'\n",
    "\n",
    "print(get_status(error=True))\n",
    "print(get_status(error=False))"
   ]
  },
  {
   "cell_type": "markdown",
   "metadata": {},
   "source": [
    "## Get the size of an object\n",
    "\n",
    "See also that `range` returns an iterator instead the whole list, therefgore with much less space\n"
   ]
  },
  {
   "cell_type": "code",
   "execution_count": 27,
   "metadata": {},
   "outputs": [
    {
     "data": {
      "text/plain": [
       "48"
      ]
     },
     "execution_count": 27,
     "metadata": {},
     "output_type": "execute_result"
    }
   ],
   "source": [
    "sys.getsizeof(range(1000))"
   ]
  },
  {
   "cell_type": "code",
   "execution_count": 28,
   "metadata": {
    "scrolled": true
   },
   "outputs": [
    {
     "data": {
      "text/plain": [
       "9112"
      ]
     },
     "execution_count": 28,
     "metadata": {},
     "output_type": "execute_result"
    }
   ],
   "source": [
    "sys.getsizeof(list(range(1000)))"
   ]
  },
  {
   "cell_type": "markdown",
   "metadata": {},
   "source": [
    "## use tuples instead of lists\n",
    "\n",
    "A Python tuple shares many properties with a list:\n",
    "- It can hold multiple values in a single variable\n",
    "- It’s ordered: the order of items is preserved\n",
    "- A tuple can have duplicate values\n",
    "- It’s indexed: you can access items numerically\n",
    "- A tuple can have an arbitrary length\n",
    "\n",
    "There are differences though:\n",
    "- A tuple is immutable; it can not be changed once you defined it.\n",
    "- A tuple is defined using optional parentheses () instead of square brackets []\n",
    "- Because tuples are immutable, and thus hashable, they can act as the key in a dictionary\n",
    "- **They are faster to create and they require less memory**"
   ]
  },
  {
   "cell_type": "code",
   "execution_count": 26,
   "metadata": {},
   "outputs": [
    {
     "data": {
      "text/plain": [
       "64"
      ]
     },
     "execution_count": 26,
     "metadata": {},
     "output_type": "execute_result"
    }
   ],
   "source": [
    "import sys\n",
    "l = [1,2,3]\n",
    "t = (1,2,3)\n",
    "sys.getsizeof(l)\n",
    "120\n",
    "sys.getsizeof(t)\n",
    "64\n"
   ]
  },
  {
   "cell_type": "markdown",
   "metadata": {},
   "source": [
    "## dataclasses (Python 3)"
   ]
  },
  {
   "cell_type": "code",
   "execution_count": 57,
   "metadata": {},
   "outputs": [
    {
     "name": "stdout",
     "output_type": "stream",
     "text": [
      "True\n",
      "Q\n",
      "Card(rank='Q', suit='hearts')\n"
     ]
    },
    {
     "data": {
      "text/plain": [
       "Card(rank='Q', suit='hearts')"
      ]
     },
     "execution_count": 57,
     "metadata": {},
     "output_type": "execute_result"
    }
   ],
   "source": [
    "from dataclasses import dataclass\n",
    "\n",
    "@dataclass\n",
    "class Card:\n",
    "    rank: str\n",
    "    suit: str\n",
    "    \n",
    "card = Card(\"Q\", \"hearts\")\n",
    "\n",
    "print(card == card)\n",
    "# True\n",
    "\n",
    "print(card.rank)\n",
    "# 'Q'\n",
    "\n",
    "print(card)\n",
    "Card(rank='Q', suit='hearts')"
   ]
  },
  {
   "cell_type": "code",
   "execution_count": null,
   "metadata": {},
   "outputs": [],
   "source": []
  }
 ],
 "metadata": {
  "kernelspec": {
   "display_name": "Python 3",
   "language": "python",
   "name": "python3"
  },
  "language_info": {
   "codemirror_mode": {
    "name": "ipython",
    "version": 3
   },
   "file_extension": ".py",
   "mimetype": "text/x-python",
   "name": "python",
   "nbconvert_exporter": "python",
   "pygments_lexer": "ipython3",
   "version": "3.7.9"
  }
 },
 "nbformat": 4,
 "nbformat_minor": 4
}
