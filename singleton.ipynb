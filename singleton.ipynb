{
 "cells": [
  {
   "cell_type": "markdown",
   "metadata": {},
   "source": [
    "## 1 Singleton without parameters"
   ]
  },
  {
   "cell_type": "code",
   "execution_count": 1,
   "metadata": {},
   "outputs": [],
   "source": [
    "class SingletonTest(object):\n",
    "    _instance = None\n",
    "\n",
    "    def __new__(cls):\n",
    "        if cls._instance is None:\n",
    "            print('Creating the object')\n",
    "            cls._instance = super(SingletonTest, cls).__new__(cls)\n",
    "            # Put any initialization here.\n",
    "        return cls._instance"
   ]
  },
  {
   "cell_type": "code",
   "execution_count": 2,
   "metadata": {},
   "outputs": [
    {
     "name": "stdout",
     "output_type": "stream",
     "text": [
      "Creating the object\n",
      "<__main__.SingletonTest object at 0x000002415B149F88>\n"
     ]
    }
   ],
   "source": [
    "inst_1 = SingletonTest()\n",
    "print(inst_1)"
   ]
  },
  {
   "cell_type": "code",
   "execution_count": 3,
   "metadata": {},
   "outputs": [
    {
     "name": "stdout",
     "output_type": "stream",
     "text": [
      "<__main__.SingletonTest object at 0x000002415B149F88>\n"
     ]
    }
   ],
   "source": [
    "inst_2 = SingletonTest()\n",
    "print(inst_2)"
   ]
  },
  {
   "cell_type": "code",
   "execution_count": 4,
   "metadata": {},
   "outputs": [
    {
     "data": {
      "text/plain": [
       "True"
      ]
     },
     "execution_count": 4,
     "metadata": {},
     "output_type": "execute_result"
    }
   ],
   "source": [
    "# check that both instance are the same\n",
    "inst_1 is inst_2"
   ]
  },
  {
   "cell_type": "code",
   "execution_count": null,
   "metadata": {},
   "outputs": [],
   "source": []
  },
  {
   "cell_type": "markdown",
   "metadata": {},
   "source": [
    "## 2 Singleton with parameters"
   ]
  },
  {
   "cell_type": "code",
   "execution_count": 5,
   "metadata": {},
   "outputs": [],
   "source": [
    "class SingletonWithParameters(object):\n",
    "    _instance = None\n",
    "    \n",
    "    def __new__(cls, *args, **kwargs):    \n",
    "        if cls._instance is not None:\n",
    "            return cls._instance\n",
    "        cls._instance = super(SingletonWithParameters, cls).__new__(cls)\n",
    "        cls._instance.init(*args, **kwargs)\n",
    "        return cls._instance\n",
    "    \n",
    "    def init(self, *args, **kwargs):\n",
    "        # parameter assignment can be improved :)\n",
    "        self.paramA = args[0]\n",
    "        self.paramB = args[1]\n",
    "        \n",
    "    def __repr__(self):\n",
    "        return(\"A={}, B={}\".format(self.paramA, self.paramB))\n"
   ]
  },
  {
   "cell_type": "code",
   "execution_count": 6,
   "metadata": {},
   "outputs": [
    {
     "name": "stdout",
     "output_type": "stream",
     "text": [
      "A=2, B=3\n"
     ]
    }
   ],
   "source": [
    "inst_3 = SingletonWithParameters(2,3)\n",
    "print(inst_3)"
   ]
  },
  {
   "cell_type": "code",
   "execution_count": 7,
   "metadata": {},
   "outputs": [
    {
     "name": "stdout",
     "output_type": "stream",
     "text": [
      "A=2, B=3\n"
     ]
    }
   ],
   "source": [
    "inst_4 = SingletonWithParameters()\n",
    "print(inst_4)"
   ]
  },
  {
   "cell_type": "code",
   "execution_count": 8,
   "metadata": {},
   "outputs": [
    {
     "name": "stdout",
     "output_type": "stream",
     "text": [
      "A=2, B=3\n"
     ]
    }
   ],
   "source": [
    "#Passing parameters only works the first time!\n",
    "inst_5 = SingletonWithParameters(4,5)\n",
    "print(inst_5)"
   ]
  },
  {
   "cell_type": "code",
   "execution_count": 9,
   "metadata": {},
   "outputs": [
    {
     "name": "stdout",
     "output_type": "stream",
     "text": [
      "True\n"
     ]
    }
   ],
   "source": [
    "print(inst_3 is inst_4 is inst_5)"
   ]
  },
  {
   "cell_type": "code",
   "execution_count": null,
   "metadata": {},
   "outputs": [],
   "source": []
  },
  {
   "cell_type": "code",
   "execution_count": null,
   "metadata": {},
   "outputs": [],
   "source": []
  }
 ],
 "metadata": {
  "kernelspec": {
   "display_name": "Python 3",
   "language": "python",
   "name": "python3"
  },
  "language_info": {
   "codemirror_mode": {
    "name": "ipython",
    "version": 3
   },
   "file_extension": ".py",
   "mimetype": "text/x-python",
   "name": "python",
   "nbconvert_exporter": "python",
   "pygments_lexer": "ipython3",
   "version": "3.7.9"
  }
 },
 "nbformat": 4,
 "nbformat_minor": 4
}
