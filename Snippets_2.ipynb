{
 "cells": [
  {
   "cell_type": "markdown",
   "metadata": {},
   "source": [
    "## Inverting a dictionary"
   ]
  },
  {
   "cell_type": "code",
   "execution_count": 21,
   "metadata": {},
   "outputs": [
    {
     "name": "stdout",
     "output_type": "stream",
     "text": [
      "{'Py': 1, 'Js': 2, 'C++': 3, 'Dart': 4}\n"
     ]
    }
   ],
   "source": [
    "mydict = {1: \"Py\", 2: \"Js\", 3: \"C++\", 4: \"Dart\"}\n",
    "invert = {v: k for k, v in mydict.items()}\n",
    "print(invert) # {'Py': 1, 'Js': 2, 'C++': 3, 'Dart': 4}"
   ]
  },
  {
   "cell_type": "markdown",
   "metadata": {},
   "source": [
    "## 3 ways of Checking an Empty List"
   ]
  },
  {
   "cell_type": "code",
   "execution_count": 22,
   "metadata": {},
   "outputs": [
    {
     "name": "stdout",
     "output_type": "stream",
     "text": [
      "Empty!\n",
      "Empty!\n",
      "Empty!\n"
     ]
    }
   ],
   "source": [
    "# Checking Empty List\n",
    "mylst = []\n",
    "\n",
    "#way 1\n",
    "if len(mylst) == 0:\n",
    "    print(\"Empty!\")\n",
    "\n",
    "# way 2\n",
    "if not mylst:\n",
    "    print(\"Empty!\")\n",
    "\n",
    "# way 3\n",
    "if mylst == []:\n",
    "    print(\"Empty!\")"
   ]
  },
  {
   "cell_type": "markdown",
   "metadata": {},
   "source": [
    "## Cloning/Duplicate list"
   ]
  },
  {
   "cell_type": "code",
   "execution_count": 23,
   "metadata": {},
   "outputs": [
    {
     "name": "stdout",
     "output_type": "stream",
     "text": [
      "[100, 200, 300]\n"
     ]
    }
   ],
   "source": [
    "import copy\n",
    "mylst1 = [100, 200, 300]\n",
    "mylst2 = copy.deepcopy(mylst1)\n",
    "print(mylst2) # [100, 200, 300]"
   ]
  },
  {
   "cell_type": "markdown",
   "metadata": {},
   "source": [
    "## Merge two Dictionaries with ** method"
   ]
  },
  {
   "cell_type": "code",
   "execution_count": 24,
   "metadata": {},
   "outputs": [
    {
     "name": "stdout",
     "output_type": "stream",
     "text": [
      "{1: 'PY', 2: 'JS', 3: 'CPP', 4: 'C#'}\n"
     ]
    }
   ],
   "source": [
    "dict1 = {1: \"PY\", 2: \"JS\"}\n",
    "dict2 = {3: \"CPP\", 4: \"C#\"}\n",
    "dict3 = {**dict1, **dict2}\n",
    "print(dict3) # {1: 'PY', 2: 'JS', 3: 'CPP', 4: 'C#'}"
   ]
  },
  {
   "cell_type": "markdown",
   "metadata": {},
   "source": [
    "## Quick variable Exchanging"
   ]
  },
  {
   "cell_type": "code",
   "execution_count": 25,
   "metadata": {},
   "outputs": [
    {
     "name": "stdout",
     "output_type": "stream",
     "text": [
      "625 125\n"
     ]
    }
   ],
   "source": [
    "value1 = 125\n",
    "value2 = 625\n",
    "(value2, value1) = (value1, value2)\n",
    "print(value1, value2) # 625 125"
   ]
  },
  {
   "cell_type": "markdown",
   "metadata": {},
   "source": [
    "## Quick Reversing a List"
   ]
  },
  {
   "cell_type": "code",
   "execution_count": 26,
   "metadata": {},
   "outputs": [
    {
     "name": "stdout",
     "output_type": "stream",
     "text": [
      "[435, 123, 625, 125]\n"
     ]
    }
   ],
   "source": [
    "lst = [125, 625, 123, 435]\n",
    "print(lst[::-1])\n",
    "# output\n",
    "# [435, 123, 625, 125]"
   ]
  },
  {
   "cell_type": "markdown",
   "metadata": {},
   "source": [
    "## Format"
   ]
  },
  {
   "cell_type": "code",
   "execution_count": 27,
   "metadata": {},
   "outputs": [
    {
     "name": "stdout",
     "output_type": "stream",
     "text": [
      "Hi My Name is Haider Imtiaz and Programmer\n"
     ]
    }
   ],
   "source": [
    "# Format method for String\n",
    "name = \"Haider Imtiaz\"\n",
    "profession = \"Programmer\"\n",
    "string = \"Hi My Name is {} and {}\".format(name, profession)\n",
    "print(string) # Hi My Name is Haider Imtiaz and Programmer"
   ]
  },
  {
   "cell_type": "markdown",
   "metadata": {},
   "source": [
    "## Extract Vowels from String"
   ]
  },
  {
   "cell_type": "code",
   "execution_count": 28,
   "metadata": {},
   "outputs": [
    {
     "name": "stdout",
     "output_type": "stream",
     "text": [
      "['a', 'a', 'u', 'e']\n",
      "['e', 'e', 'o', 'e']\n"
     ]
    }
   ],
   "source": [
    "def Extract_Vowels(data):\n",
    "    return [each for each in data if each in 'aeiou']\n",
    "print(Extract_Vowels(\"langauge\"))  # ['a', 'a', 'u', 'e']\n",
    "print(Extract_Vowels(\"Developer\")) # ['e', 'e', 'o', 'e']"
   ]
  },
  {
   "cell_type": "markdown",
   "metadata": {},
   "source": [
    "## Convert Irregular List to Single List"
   ]
  },
  {
   "cell_type": "code",
   "execution_count": 29,
   "metadata": {},
   "outputs": [
    {
     "name": "stdout",
     "output_type": "stream",
     "text": [
      "{'Py': 1, 'Js': 2, 'C++': 3, 'Dart': 4}\n"
     ]
    }
   ],
   "source": [
    "mydict = {1: \"Py\", 2: \"Js\", 3: \"C++\", 4: \"Dart\"}\n",
    "invert = {v: k for k, v in mydict.items()}\n",
    "print(invert) # {'Py': 1, 'Js': 2, 'C++': 3, 'Dart': 4}"
   ]
  },
  {
   "cell_type": "markdown",
   "metadata": {},
   "source": [
    "## Transpose A Matrix"
   ]
  },
  {
   "cell_type": "code",
   "execution_count": 30,
   "metadata": {},
   "outputs": [
    {
     "name": "stdout",
     "output_type": "stream",
     "text": [
      "[(10, 40), (20, 50), (30, 60)]\n"
     ]
    }
   ],
   "source": [
    "lst = [[10, 20, 30], [40, 50, 60]]\n",
    "transpose = list(zip(*lst))\n",
    "print(transpose) # [(10, 40), (20, 50), (30, 60)]"
   ]
  },
  {
   "cell_type": "markdown",
   "metadata": {},
   "source": [
    "## Short If-Else"
   ]
  },
  {
   "cell_type": "code",
   "execution_count": 31,
   "metadata": {},
   "outputs": [
    {
     "name": "stdout",
     "output_type": "stream",
     "text": [
      "Yes\n"
     ]
    }
   ],
   "source": [
    "# Single line if else\n",
    "print(\"Yes\") if 100 > 5 else print(\"No\")\n",
    "# Output \n",
    "# Yes"
   ]
  },
  {
   "cell_type": "markdown",
   "metadata": {},
   "source": [
    "## Reversed Iteration"
   ]
  },
  {
   "cell_type": "code",
   "execution_count": 32,
   "metadata": {},
   "outputs": [
    {
     "name": "stdout",
     "output_type": "stream",
     "text": [
      "500\n",
      "400\n",
      "300\n",
      "200\n",
      "100\n"
     ]
    }
   ],
   "source": [
    "mylist = [100, 200, 300, 400, 500]\n",
    "for x in reversed(mylist):\n",
    "    print(x)"
   ]
  },
  {
   "cell_type": "markdown",
   "metadata": {},
   "source": [
    "## Taking Multiple Integer Input"
   ]
  },
  {
   "cell_type": "code",
   "execution_count": 33,
   "metadata": {},
   "outputs": [
    {
     "name": "stdout",
     "output_type": "stream",
     "text": [
      "5\n",
      "[5]\n"
     ]
    }
   ],
   "source": [
    "#String Input\n",
    "take_input = list(map(lambda x:int(x) ,input().split()))\n",
    "print(take_input) # [10, 20, 30, 40]"
   ]
  },
  {
   "cell_type": "markdown",
   "metadata": {},
   "source": [
    "## Joining String"
   ]
  },
  {
   "cell_type": "code",
   "execution_count": 34,
   "metadata": {},
   "outputs": [
    {
     "name": "stdout",
     "output_type": "stream",
     "text": [
      "Hi Programmer How's Going\n"
     ]
    }
   ],
   "source": [
    "mylist = [\"Hi\", \"Programmer\", \"How's\", \"Going\"]\n",
    "joined = \" \".join(mylist)\n",
    "print(joined) # Hi Programmer How's Going"
   ]
  },
  {
   "cell_type": "markdown",
   "metadata": {},
   "source": [
    "## Reset the Recursion Limit"
   ]
  },
  {
   "cell_type": "code",
   "execution_count": 35,
   "metadata": {},
   "outputs": [
    {
     "name": "stdout",
     "output_type": "stream",
     "text": [
      "2000\n"
     ]
    }
   ],
   "source": [
    "# Set Recursion limit\n",
    "import sys\n",
    "sys.setrecursionlimit(2000)\n",
    "print(sys.getrecursionlimit()) # 2000"
   ]
  },
  {
   "cell_type": "markdown",
   "metadata": {},
   "source": [
    "## Filter any list"
   ]
  },
  {
   "cell_type": "code",
   "execution_count": 36,
   "metadata": {},
   "outputs": [
    {
     "name": "stdout",
     "output_type": "stream",
     "text": [
      "[12, 14, 16]\n"
     ]
    }
   ],
   "source": [
    "mylst = [11, 12, 13, 14, 15, 16]\n",
    "even_num = [i for i in mylst if i%2 == 0]\n",
    "print(even_num) # [12, 14, 16]"
   ]
  },
  {
   "cell_type": "markdown",
   "metadata": {},
   "source": [
    "## Generate Random Number"
   ]
  },
  {
   "cell_type": "code",
   "execution_count": 37,
   "metadata": {},
   "outputs": [
    {
     "name": "stdout",
     "output_type": "stream",
     "text": [
      "9\n",
      "52\n",
      "249\n"
     ]
    }
   ],
   "source": [
    "import random\n",
    "print(random.randrange(5, 10)) # 9\n",
    "print(random.randrange(25, 101)) # 63\n",
    "print(random.randrange(45, 1066)) # 358"
   ]
  },
  {
   "cell_type": "markdown",
   "metadata": {},
   "source": [
    "## Get Rid of Duplicates"
   ]
  },
  {
   "cell_type": "code",
   "execution_count": 38,
   "metadata": {},
   "outputs": [
    {
     "name": "stdout",
     "output_type": "stream",
     "text": [
      "['a', 'b', 'c', 'd']\n"
     ]
    }
   ],
   "source": [
    "mylst = [\"a\", \"b\", \"b\", \"c\", \"c\", \"a\", \"d\", \"d\"]\n",
    "mylst = list(dict.fromkeys(mylst))\n",
    "print(mylst) # ['a', 'b', 'c', 'd']"
   ]
  },
  {
   "cell_type": "markdown",
   "metadata": {},
   "source": [
    "## Unpack a tuple"
   ]
  },
  {
   "cell_type": "code",
   "execution_count": 39,
   "metadata": {},
   "outputs": [
    {
     "name": "stdout",
     "output_type": "stream",
     "text": [
      "100 200 300 400\n"
     ]
    }
   ],
   "source": [
    "# Unpack a Tuple\n",
    "tuples = (100, 200, 300, 400)\n",
    "a, b, c, d = tuples\n",
    "print(a, b, c, d) # 100 200 300 400"
   ]
  },
  {
   "cell_type": "markdown",
   "metadata": {},
   "source": [
    "## Create Empty Containers of Data"
   ]
  },
  {
   "cell_type": "code",
   "execution_count": 40,
   "metadata": {},
   "outputs": [
    {
     "name": "stdout",
     "output_type": "stream",
     "text": [
      "[] () set() {}\n"
     ]
    }
   ],
   "source": [
    "# Empty Containers of Data\n",
    "a = list()\n",
    "b = tuple()\n",
    "c = set()\n",
    "d = dict()\n",
    "print(a, b, c, d) # [] () set() {}"
   ]
  }
 ],
 "metadata": {
  "kernelspec": {
   "display_name": "Python 3",
   "language": "python",
   "name": "python3"
  },
  "language_info": {
   "codemirror_mode": {
    "name": "ipython",
    "version": 3
   },
   "file_extension": ".py",
   "mimetype": "text/x-python",
   "name": "python",
   "nbconvert_exporter": "python",
   "pygments_lexer": "ipython3",
   "version": "3.7.9"
  }
 },
 "nbformat": 4,
 "nbformat_minor": 4
}
